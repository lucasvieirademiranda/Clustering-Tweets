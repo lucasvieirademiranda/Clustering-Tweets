{
 "cells": [
  {
   "cell_type": "code",
   "execution_count": 16,
   "metadata": {},
   "outputs": [],
   "source": [
    "import warnings\n",
    "import time\n",
    "\n",
    "import numpy as np\n",
    "import pandas as pd\n",
    "\n",
    "from matplotlib import pyplot as plt\n",
    "\n",
    "from sklearn.preprocessing import normalize\n",
    "from sklearn.preprocessing import minmax_scale\n",
    "\n",
    "from sklearn.cluster import MeanShift, estimate_bandwidth\n",
    "\n",
    "from sklearn.metrics import silhouette_score\n",
    "from sklearn.metrics import calinski_harabaz_score\n",
    "from sklearn.metrics import davies_bouldin_score\n",
    "\n",
    "pd.set_option('precision', 20)\n",
    "warnings.simplefilter('ignore')"
   ]
  },
  {
   "cell_type": "code",
   "execution_count": 17,
   "metadata": {},
   "outputs": [],
   "source": [
    "file = open('./health.txt', 'r', encoding = \"utf8\",)\n",
    "\n",
    "lines = file.readlines()\n",
    "lines.pop(0)\n",
    "\n",
    "file.close()"
   ]
  },
  {
   "cell_type": "code",
   "execution_count": 18,
   "metadata": {},
   "outputs": [
    {
     "data": {
      "text/html": [
       "<div>\n",
       "<style scoped>\n",
       "    .dataframe tbody tr th:only-of-type {\n",
       "        vertical-align: middle;\n",
       "    }\n",
       "\n",
       "    .dataframe tbody tr th {\n",
       "        vertical-align: top;\n",
       "    }\n",
       "\n",
       "    .dataframe thead th {\n",
       "        text-align: right;\n",
       "    }\n",
       "</style>\n",
       "<table border=\"1\" class=\"dataframe\">\n",
       "  <thead>\n",
       "    <tr style=\"text-align: right;\">\n",
       "      <th></th>\n",
       "      <th>0</th>\n",
       "      <th>1</th>\n",
       "      <th>2</th>\n",
       "      <th>3</th>\n",
       "      <th>4</th>\n",
       "      <th>5</th>\n",
       "      <th>6</th>\n",
       "      <th>7</th>\n",
       "      <th>8</th>\n",
       "      <th>9</th>\n",
       "      <th>...</th>\n",
       "      <th>118</th>\n",
       "      <th>119</th>\n",
       "      <th>120</th>\n",
       "      <th>121</th>\n",
       "      <th>122</th>\n",
       "      <th>123</th>\n",
       "      <th>124</th>\n",
       "      <th>125</th>\n",
       "      <th>126</th>\n",
       "      <th>127</th>\n",
       "    </tr>\n",
       "  </thead>\n",
       "  <tbody>\n",
       "    <tr>\n",
       "      <th>0</th>\n",
       "      <td>0.01359482482075691223</td>\n",
       "      <td>-0.06877159327268600464</td>\n",
       "      <td>-0.01312609389424324036</td>\n",
       "      <td>0.00602444121614098636</td>\n",
       "      <td>0.03792188689112663269</td>\n",
       "      <td>-0.02087241783738135945</td>\n",
       "      <td>-0.01032459363341331482</td>\n",
       "      <td>0.00801859516650438309</td>\n",
       "      <td>0.00806378014385700226</td>\n",
       "      <td>0.01138116978108882904</td>\n",
       "      <td>...</td>\n",
       "      <td>-0.02096499875187873493</td>\n",
       "      <td>0.06247289106249808571</td>\n",
       "      <td>-0.00005988528209854849</td>\n",
       "      <td>-0.06262146681547163529</td>\n",
       "      <td>-0.01958637684583663940</td>\n",
       "      <td>0.04600673168897628784</td>\n",
       "      <td>0.00381099176593124823</td>\n",
       "      <td>0.01113303098827600306</td>\n",
       "      <td>-0.04020838066935539246</td>\n",
       "      <td>-0.04196779057383536599</td>\n",
       "    </tr>\n",
       "    <tr>\n",
       "      <th>1</th>\n",
       "      <td>0.02500919811427593231</td>\n",
       "      <td>-0.02558607049286365162</td>\n",
       "      <td>0.01223747152835130692</td>\n",
       "      <td>0.02056710422039032329</td>\n",
       "      <td>0.01452295947819948196</td>\n",
       "      <td>-0.01870472356677055706</td>\n",
       "      <td>-0.05839468538761138916</td>\n",
       "      <td>0.02805390954017639160</td>\n",
       "      <td>-0.03236185014247894287</td>\n",
       "      <td>0.02058210223913192749</td>\n",
       "      <td>...</td>\n",
       "      <td>-0.03497672453522682190</td>\n",
       "      <td>0.03047488443553448070</td>\n",
       "      <td>0.03889907523989676735</td>\n",
       "      <td>0.01692577451467513691</td>\n",
       "      <td>-0.00066598755074664950</td>\n",
       "      <td>0.00731092086061835289</td>\n",
       "      <td>0.00134810432791709900</td>\n",
       "      <td>0.00841433275490999222</td>\n",
       "      <td>-0.01392686367034912109</td>\n",
       "      <td>0.00239939475432038307</td>\n",
       "    </tr>\n",
       "    <tr>\n",
       "      <th>2</th>\n",
       "      <td>0.03154385834932326577</td>\n",
       "      <td>-0.02588219568133354187</td>\n",
       "      <td>-0.06061670556664464776</td>\n",
       "      <td>0.03599164262413977883</td>\n",
       "      <td>0.03774229437112807534</td>\n",
       "      <td>-0.02113202027976512562</td>\n",
       "      <td>-0.04102319851517675919</td>\n",
       "      <td>0.01107627153396606445</td>\n",
       "      <td>0.00324714253656566143</td>\n",
       "      <td>0.01442667003720998764</td>\n",
       "      <td>...</td>\n",
       "      <td>-0.00014593750529456884</td>\n",
       "      <td>0.00029255746630951757</td>\n",
       "      <td>0.02933352254331111214</td>\n",
       "      <td>-0.00573470350354909810</td>\n",
       "      <td>-0.02568292990326881409</td>\n",
       "      <td>0.02869392745196819305</td>\n",
       "      <td>0.02869183383882045746</td>\n",
       "      <td>0.04904300719499587319</td>\n",
       "      <td>-0.01124960556626320059</td>\n",
       "      <td>-0.02942314930260181080</td>\n",
       "    </tr>\n",
       "    <tr>\n",
       "      <th>3</th>\n",
       "      <td>0.05871402099728583596</td>\n",
       "      <td>-0.08025125414133071899</td>\n",
       "      <td>-0.02610099874436856010</td>\n",
       "      <td>0.06046065688133241134</td>\n",
       "      <td>0.01671449467539787292</td>\n",
       "      <td>-0.00520526710897684097</td>\n",
       "      <td>-0.03744075819849967957</td>\n",
       "      <td>0.05147174745798110962</td>\n",
       "      <td>-0.06350474059581757980</td>\n",
       "      <td>0.00324714789167046504</td>\n",
       "      <td>...</td>\n",
       "      <td>-0.02187935262918471943</td>\n",
       "      <td>0.01710331067442893982</td>\n",
       "      <td>0.01647211983799934387</td>\n",
       "      <td>-0.00495306123048067180</td>\n",
       "      <td>-0.00152060878463089466</td>\n",
       "      <td>-0.01882163062691688538</td>\n",
       "      <td>0.02021571062505244515</td>\n",
       "      <td>0.02570796944200992237</td>\n",
       "      <td>-0.01654311642050743103</td>\n",
       "      <td>0.01297281403094529932</td>\n",
       "    </tr>\n",
       "    <tr>\n",
       "      <th>4</th>\n",
       "      <td>0.02336619794368743896</td>\n",
       "      <td>-0.06566702574491499467</td>\n",
       "      <td>-0.01560061797499656504</td>\n",
       "      <td>0.02260199747979640961</td>\n",
       "      <td>0.03036541491746902466</td>\n",
       "      <td>-0.06059028208255768516</td>\n",
       "      <td>-0.07105538249015808105</td>\n",
       "      <td>-0.00864130258560180664</td>\n",
       "      <td>-0.01872800104320048592</td>\n",
       "      <td>0.04288048297166822953</td>\n",
       "      <td>...</td>\n",
       "      <td>0.01421917043626308788</td>\n",
       "      <td>0.05161334574222565391</td>\n",
       "      <td>0.02731567248702048908</td>\n",
       "      <td>-0.03000600636005401958</td>\n",
       "      <td>-0.02820869348943233143</td>\n",
       "      <td>0.06425588577985763550</td>\n",
       "      <td>-0.01929101720452308655</td>\n",
       "      <td>0.00372498435899615331</td>\n",
       "      <td>-0.04993722960352896950</td>\n",
       "      <td>-0.01597486808896064411</td>\n",
       "    </tr>\n",
       "  </tbody>\n",
       "</table>\n",
       "<p>5 rows × 128 columns</p>\n",
       "</div>"
      ],
      "text/plain": [
       "                      0                       1                       2    \\\n",
       "0  0.01359482482075691223 -0.06877159327268600464 -0.01312609389424324036   \n",
       "1  0.02500919811427593231 -0.02558607049286365162  0.01223747152835130692   \n",
       "2  0.03154385834932326577 -0.02588219568133354187 -0.06061670556664464776   \n",
       "3  0.05871402099728583596 -0.08025125414133071899 -0.02610099874436856010   \n",
       "4  0.02336619794368743896 -0.06566702574491499467 -0.01560061797499656504   \n",
       "\n",
       "                      3                       4                       5    \\\n",
       "0  0.00602444121614098636  0.03792188689112663269 -0.02087241783738135945   \n",
       "1  0.02056710422039032329  0.01452295947819948196 -0.01870472356677055706   \n",
       "2  0.03599164262413977883  0.03774229437112807534 -0.02113202027976512562   \n",
       "3  0.06046065688133241134  0.01671449467539787292 -0.00520526710897684097   \n",
       "4  0.02260199747979640961  0.03036541491746902466 -0.06059028208255768516   \n",
       "\n",
       "                      6                       7                       8    \\\n",
       "0 -0.01032459363341331482  0.00801859516650438309  0.00806378014385700226   \n",
       "1 -0.05839468538761138916  0.02805390954017639160 -0.03236185014247894287   \n",
       "2 -0.04102319851517675919  0.01107627153396606445  0.00324714253656566143   \n",
       "3 -0.03744075819849967957  0.05147174745798110962 -0.06350474059581757980   \n",
       "4 -0.07105538249015808105 -0.00864130258560180664 -0.01872800104320048592   \n",
       "\n",
       "                      9             ...                               118  \\\n",
       "0  0.01138116978108882904           ...           -0.02096499875187873493   \n",
       "1  0.02058210223913192749           ...           -0.03497672453522682190   \n",
       "2  0.01442667003720998764           ...           -0.00014593750529456884   \n",
       "3  0.00324714789167046504           ...           -0.02187935262918471943   \n",
       "4  0.04288048297166822953           ...            0.01421917043626308788   \n",
       "\n",
       "                      119                     120                     121  \\\n",
       "0  0.06247289106249808571 -0.00005988528209854849 -0.06262146681547163529   \n",
       "1  0.03047488443553448070  0.03889907523989676735  0.01692577451467513691   \n",
       "2  0.00029255746630951757  0.02933352254331111214 -0.00573470350354909810   \n",
       "3  0.01710331067442893982  0.01647211983799934387 -0.00495306123048067180   \n",
       "4  0.05161334574222565391  0.02731567248702048908 -0.03000600636005401958   \n",
       "\n",
       "                      122                     123                     124  \\\n",
       "0 -0.01958637684583663940  0.04600673168897628784  0.00381099176593124823   \n",
       "1 -0.00066598755074664950  0.00731092086061835289  0.00134810432791709900   \n",
       "2 -0.02568292990326881409  0.02869392745196819305  0.02869183383882045746   \n",
       "3 -0.00152060878463089466 -0.01882163062691688538  0.02021571062505244515   \n",
       "4 -0.02820869348943233143  0.06425588577985763550 -0.01929101720452308655   \n",
       "\n",
       "                      125                     126                     127  \n",
       "0  0.01113303098827600306 -0.04020838066935539246 -0.04196779057383536599  \n",
       "1  0.00841433275490999222 -0.01392686367034912109  0.00239939475432038307  \n",
       "2  0.04904300719499587319 -0.01124960556626320059 -0.02942314930260181080  \n",
       "3  0.02570796944200992237 -0.01654311642050743103  0.01297281403094529932  \n",
       "4  0.00372498435899615331 -0.04993722960352896950 -0.01597486808896064411  \n",
       "\n",
       "[5 rows x 128 columns]"
      ]
     },
     "execution_count": 18,
     "metadata": {},
     "output_type": "execute_result"
    }
   ],
   "source": [
    "dt = pd.read_csv('./word2vec.csv', header = None)\n",
    "dt.head()"
   ]
  },
  {
   "cell_type": "code",
   "execution_count": 19,
   "metadata": {},
   "outputs": [],
   "source": [
    "data = normalize(dt.values, norm = 'l2')\n",
    "#data = minmax_scale(dt.values)\n",
    "#data = dt.values"
   ]
  },
  {
   "cell_type": "code",
   "execution_count": 20,
   "metadata": {},
   "outputs": [
    {
     "name": "stdout",
     "output_type": "stream",
     "text": [
      "Process Time in Minutes: 22.47214367787043\n"
     ]
    }
   ],
   "source": [
    "start = time.time()\n",
    "\n",
    "clustering = MeanShift()\n",
    "\n",
    "clustering.fit(data)\n",
    "\n",
    "labels = clustering.labels_\n",
    "cluster_centers = clustering.cluster_centers_\n",
    "\n",
    "finish = time.time()\n",
    "\n",
    "calculated_time = ((finish - start) / 60)\n",
    "\n",
    "print(\"Process Time in Minutes: \" + str(calculated_time))"
   ]
  },
  {
   "cell_type": "code",
   "execution_count": 21,
   "metadata": {},
   "outputs": [
    {
     "name": "stdout",
     "output_type": "stream",
     "text": [
      "Coeficiente de Calinski 2.0702270626465866\n",
      "Time in Minutes: 0.000570360819498698\n"
     ]
    }
   ],
   "source": [
    "start = time.time()\n",
    "\n",
    "coefficient = calinski_harabaz_score(data, labels)\n",
    "\n",
    "print(\"Coeficiente de Calinski \" + str(coefficient))\n",
    "\n",
    "finish = time.time()\n",
    "\n",
    "calculated_time = (finish - start) / 60\n",
    "\n",
    "print(\"Time in Minutes: \" + str(calculated_time))"
   ]
  },
  {
   "cell_type": "code",
   "execution_count": 22,
   "metadata": {},
   "outputs": [
    {
     "name": "stdout",
     "output_type": "stream",
     "text": [
      "Coeficiente de Davies 0.6985198797149981\n",
      "Time in Minutes: 0.00044641494750976565\n"
     ]
    }
   ],
   "source": [
    "start = time.time()\n",
    "\n",
    "coefficient = davies_bouldin_score(data, labels)\n",
    "\n",
    "print(\"Coeficiente de Davies \" + str(coefficient))\n",
    "\n",
    "finish = time.time()\n",
    "\n",
    "calculated_time = (finish - start) / 60\n",
    "\n",
    "print(\"Time in Minutes: \" + str(calculated_time))"
   ]
  },
  {
   "cell_type": "code",
   "execution_count": 23,
   "metadata": {},
   "outputs": [
    {
     "name": "stdout",
     "output_type": "stream",
     "text": [
      "Coeficiente de Silhueta 0.15426409357786727\n",
      "Time in Minutes: 0.05176591873168945\n"
     ]
    }
   ],
   "source": [
    "start = time.time()\n",
    "\n",
    "coefficient = silhouette_score(data, labels)\n",
    "\n",
    "print(\"Coeficiente de Silhueta \" + str(coefficient))\n",
    "\n",
    "finish = time.time()\n",
    "\n",
    "calculated_time = (finish - start) / 60\n",
    "\n",
    "print(\"Time in Minutes: \" + str(calculated_time))"
   ]
  },
  {
   "cell_type": "code",
   "execution_count": 24,
   "metadata": {},
   "outputs": [
    {
     "data": {
      "text/plain": [
       "(5, 128)"
      ]
     },
     "execution_count": 24,
     "metadata": {},
     "output_type": "execute_result"
    }
   ],
   "source": [
    "cluster_centers.shape"
   ]
  },
  {
   "cell_type": "code",
   "execution_count": 25,
   "metadata": {},
   "outputs": [
    {
     "data": {
      "text/plain": [
       "[[0, 13225], [1, 1], [2, 1], [3, 1], [4, 1]]"
      ]
     },
     "execution_count": 25,
     "metadata": {},
     "output_type": "execute_result"
    }
   ],
   "source": [
    "total_cluster = []\n",
    "\n",
    "for label in np.unique(labels):\n",
    "    \n",
    "    total = len(data[labels == label])\n",
    "    \n",
    "    total_cluster.append([label, total])\n",
    "    \n",
    "total_cluster"
   ]
  },
  {
   "cell_type": "code",
   "execution_count": 26,
   "metadata": {},
   "outputs": [
    {
     "name": "stdout",
     "output_type": "stream",
     "text": [
      "An abundance of online info can turn us into e-hypochondriacs. Or, worse, lead us to neglect getting the care we need\n",
      "\n",
      "A plant-based diet that incorporates fish may be the key to preventing colorectal cancers:\n",
      "\n",
      "It doesn't take much to damage your hearing at a sports bar or nightclub. That's why a billion people are at risk.\n",
      "\n",
      "RT @CNN: Forever young? Discover this island’s secrets to longevity on #TheWonderList w/ @BillWeirCNN \n",
      "\n",
      "RT @CNN: Is post-traumatic stress disorder in your genes? A simple blood test may one day help tell you\n",
      "\n",
      "Maysoon Zayid, a touring standup comic with Cerebral Palsy, has a message to share.\n",
      "\n",
      "How women can wipe out Alzheimer's, from @mariashriver. \n",
      "\n",
      "RT @CNNOpinion: Women can defeat #Alzheimers, says @mariashriver. #WipeOutAlz challenge will make it happen.\n",
      "\n",
      "Is it time to raise the legal smoking age?\n",
      "\n",
      "CDC: Misuse of garments may have led to release of bioterror bacteria at Tulane monkey lab.\n",
      "\n",
      "Losing a brain tumor, gaining perspective: CNN's Jessica Moskowitz's #FirstPerson experience.\n",
      "\n",
      "You may be your germs: Microbe genes slipped into human DNA, study says.\n",
      "\n",
      "RT @CNN: A plant-based diet that incorporates fish may be the key to preventing colorectal cancers:\n",
      "\n",
      "#FitNation: Finding the right life balance between family, work and getting fit.\n",
      "\n",
      "Robert Downey Jr. presents a child with his own 'Iron Man' robotic arm.\n",
      "\n",
      "RT @cnntech: Tim Cook tried to give Steve Jobs his liver\n",
      "\n",
      "RT @drsanjaygupta: what are you having for dinner? a lot more #sugar thank you think..\n",
      "\n",
      "RT @cnnbrk: U.S. Ebola patient headed to National Institutes of Health.\n",
      "\n",
      "RT @cnni: Eat yourself healthy with these amazing superfoods:\n",
      "\n",
      "RT @CNNMoney: This computer can diagnose cancer. Watch:\n",
      "\n",
      "RT @CNN: .@RobertDowneyJr presented a child with his own 'Iron Man' robotic arm:\n",
      "\n",
      "RT @TIME: The hidden dangers of being ‘skinny fat’\n",
      "\n",
      "Kids = constant ear infections. Save yourself a trip to the ER w/ this:\n",
      "\n",
      "Are you an e-hypochondriac? Searching symptoms online can be dangerous to your (mental) health\n",
      "\n",
      "Training for a triathlon? These yoga poses can help, via @MobilityMaker.\n",
      "\n",
      "Battling to eliminate elephantiasis, a parasite that continues to infect 120 million worldwide\n",
      "\n",
      "Could a simple blood test someday tell if you're genetically predisposed to PTSD?\n",
      "\n",
      "RT @CNN: Explore the secrets of Ikaria on #TheWonderList with @BillWeirCNN Sun at 10pET/PT.\n",
      "\n",
      "Ear trouble? Save yourself a trip to the ER. One startup has created an iPhone attachment to diagnose ear infections.\n",
      "\n",
      "Is mustard better for you than ketchup? @drsanjaygupta explains the sugar hiding in your food.\n",
      "\n"
     ]
    }
   ],
   "source": [
    "cluster = 0\n",
    "show = 30\n",
    "\n",
    "\n",
    "lines = np.array(lines)\n",
    "\n",
    "current_data = lines[labels == cluster]\n",
    "\n",
    "for current_datum in current_data[0 : show]:\n",
    "    \n",
    "    datum = current_datum.split(\"|\")[2]\n",
    "    \n",
    "    print(datum)"
   ]
  },
  {
   "cell_type": "code",
   "execution_count": null,
   "metadata": {},
   "outputs": [],
   "source": []
  },
  {
   "cell_type": "code",
   "execution_count": null,
   "metadata": {},
   "outputs": [],
   "source": []
  }
 ],
 "metadata": {
  "kernelspec": {
   "display_name": "Python 3",
   "language": "python",
   "name": "python3"
  },
  "language_info": {
   "codemirror_mode": {
    "name": "ipython",
    "version": 3
   },
   "file_extension": ".py",
   "mimetype": "text/x-python",
   "name": "python",
   "nbconvert_exporter": "python",
   "pygments_lexer": "ipython3",
   "version": "3.5.5"
  }
 },
 "nbformat": 4,
 "nbformat_minor": 2
}
